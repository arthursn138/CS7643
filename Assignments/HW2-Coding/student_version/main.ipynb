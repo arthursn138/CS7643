{
 "cells": [
  {
   "cell_type": "markdown",
   "id": "f8b6826b",
   "metadata": {
    "id": "wpvzcMuc5EXM"
   },
   "source": [
    "###Mount Google Drive"
   ]
  },
  {
   "cell_type": "code",
   "execution_count": 1,
   "id": "558f08b5",
   "metadata": {
    "id": "hBD1zdSe0OuY",
    "scrolled": true
   },
   "outputs": [
    {
     "ename": "ModuleNotFoundError",
     "evalue": "No module named 'google.colab'",
     "output_type": "error",
     "traceback": [
      "\u001b[0;31m---------------------------------------------------------------------------\u001b[0m",
      "\u001b[0;31mModuleNotFoundError\u001b[0m                       Traceback (most recent call last)",
      "\u001b[0;32m<ipython-input-1-c32d7de382d2>\u001b[0m in \u001b[0;36m<module>\u001b[0;34m\u001b[0m\n\u001b[1;32m      1\u001b[0m \u001b[0;31m# Cell 1\u001b[0m\u001b[0;34m\u001b[0m\u001b[0;34m\u001b[0m\u001b[0;34m\u001b[0m\u001b[0m\n\u001b[0;32m----> 2\u001b[0;31m \u001b[0;32mfrom\u001b[0m \u001b[0mgoogle\u001b[0m\u001b[0;34m.\u001b[0m\u001b[0mcolab\u001b[0m \u001b[0;32mimport\u001b[0m \u001b[0mdrive\u001b[0m\u001b[0;34m\u001b[0m\u001b[0;34m\u001b[0m\u001b[0m\n\u001b[0m\u001b[1;32m      3\u001b[0m \u001b[0mdrive\u001b[0m\u001b[0;34m.\u001b[0m\u001b[0mmount\u001b[0m\u001b[0;34m(\u001b[0m\u001b[0;34m'/content/drive'\u001b[0m\u001b[0;34m)\u001b[0m\u001b[0;34m\u001b[0m\u001b[0;34m\u001b[0m\u001b[0m\n",
      "\u001b[0;31mModuleNotFoundError\u001b[0m: No module named 'google.colab'"
     ]
    }
   ],
   "source": [
    "# Cell 1\n",
    "from google.colab import drive\n",
    "drive.mount('/content/drive')"
   ]
  },
  {
   "cell_type": "markdown",
   "id": "142339de",
   "metadata": {
    "id": "NMJSBzha56Cm"
   },
   "source": [
    "###Part1: Implementing CNN from Scratch"
   ]
  },
  {
   "cell_type": "code",
   "execution_count": null,
   "id": "57311cd1",
   "metadata": {
    "id": "KCg3TIH79zYi"
   },
   "outputs": [],
   "source": [
    "# Cell 2\n",
    "%cd /content/drive/MyDrive/'<path_to_unzipped_files>'/hw2/student_version/part1-convnet/"
   ]
  },
  {
   "cell_type": "markdown",
   "id": "278a0570",
   "metadata": {
    "id": "H_JFrDjX9kns"
   },
   "source": [
    "Load CIFAR-10 data"
   ]
  },
  {
   "cell_type": "code",
   "execution_count": null,
   "id": "731d8c3c",
   "metadata": {
    "id": "HLp78q5P19ed"
   },
   "outputs": [],
   "source": [
    "# Cell 3\n",
    "%cd data\n",
    "!sh get_data.sh\n",
    "%cd .."
   ]
  },
  {
   "cell_type": "markdown",
   "id": "86169141",
   "metadata": {
    "id": "N3rsFEHhDIKD"
   },
   "source": [
    "Cross-check your implementation"
   ]
  },
  {
   "cell_type": "code",
   "execution_count": null,
   "id": "0907438d",
   "metadata": {
    "id": "YCVwKF1M6vAb"
   },
   "outputs": [],
   "source": [
    "# Cell 3\n",
    "# If you get an error saying test not found, add an __init__.py file in the\n",
    "# tests directory\n",
    "!python -m unittest tests.test_conv"
   ]
  },
  {
   "cell_type": "markdown",
   "id": "e1b0c999",
   "metadata": {
    "id": "RuablKpuDQLh"
   },
   "source": [
    "Train your ConvNet"
   ]
  },
  {
   "cell_type": "code",
   "execution_count": null,
   "id": "3025c43a",
   "metadata": {
    "id": "e6846de3"
   },
   "outputs": [],
   "source": [
    "# Cell 4\n",
    "!python train.py"
   ]
  },
  {
   "cell_type": "markdown",
   "id": "934ba018",
   "metadata": {
    "id": "AAKJrcY6q9b4"
   },
   "source": [
    "Visualize Part-1 training curve"
   ]
  },
  {
   "cell_type": "code",
   "execution_count": null,
   "id": "d3e588f8",
   "metadata": {
    "id": "jU-GcjPZonLH"
   },
   "outputs": [],
   "source": [
    "# Cell 5\n",
    "from IPython.display import display, Image\n",
    "display(Image(filename='./train.png', width=500))"
   ]
  },
  {
   "cell_type": "markdown",
   "id": "dc7105de",
   "metadata": {
    "id": "DJq4sV4Hz0dx"
   },
   "source": [
    "## Zip your Part-1 submission"
   ]
  },
  {
   "cell_type": "code",
   "execution_count": null,
   "id": "48321df2",
   "metadata": {
    "id": "A9YILla3z3Jf"
   },
   "outputs": [],
   "source": [
    "# Cell 6\n",
    "!python3 collect_submission.py"
   ]
  },
  {
   "cell_type": "markdown",
   "id": "06d7a973",
   "metadata": {
    "id": "ZZNrCDMGDniz"
   },
   "source": [
    "###Part2: PyTorch"
   ]
  },
  {
   "cell_type": "code",
   "execution_count": null,
   "id": "d1866dc1",
   "metadata": {
    "colab": {
     "base_uri": "https://localhost:8080/"
    },
    "executionInfo": {
     "elapsed": 113,
     "status": "ok",
     "timestamp": 1663357369045,
     "user": {
      "displayName": "Aaditya Singh",
      "userId": "09061451794579123295"
     },
     "user_tz": 240
    },
    "id": "uboHDrlHEMhI",
    "outputId": "0dc30e8c-5fd0-4762-8e3a-d9a2dc9709f4"
   },
   "outputs": [
    {
     "name": "stdout",
     "output_type": "stream",
     "text": [
      "/content/drive/MyDrive/Colab Notebooks/f22-dl/hw2/part2-pytorch\n"
     ]
    }
   ],
   "source": [
    "# Cell 7\n",
    "%cd /content/drive/MyDrive/'hw2.zip (Unzipped Files)'/hw2/student_version/part2-pytorch/"
   ]
  },
  {
   "cell_type": "markdown",
   "id": "6f9ce49c",
   "metadata": {
    "id": "PNu2vcVQGMyf"
   },
   "source": [
    "Load CIFAR-10 data"
   ]
  },
  {
   "cell_type": "code",
   "execution_count": null,
   "id": "7c2d12f7",
   "metadata": {
    "id": "BpaX2bPlGm9V"
   },
   "outputs": [],
   "source": [
    "# Cell 8\n",
    "%cd data\n",
    "!sh get_data.sh\n",
    "%cd .."
   ]
  },
  {
   "cell_type": "markdown",
   "id": "db16f48d",
   "metadata": {
    "id": "HgRcAfN7Helz"
   },
   "source": [
    "Train your Two-Layer Net"
   ]
  },
  {
   "cell_type": "code",
   "execution_count": null,
   "id": "a76c48fa",
   "metadata": {
    "id": "n4SvtJfjGJYf"
   },
   "outputs": [],
   "source": [
    "# Cell 9\n",
    "!python main.py --config configs/config_twolayer.yaml"
   ]
  },
  {
   "cell_type": "markdown",
   "id": "94c33fda",
   "metadata": {
    "id": "ZluqyoHLIzMn"
   },
   "source": [
    "Train your Vanilla ConvNet"
   ]
  },
  {
   "cell_type": "code",
   "execution_count": null,
   "id": "eebba31a",
   "metadata": {
    "id": "KE1K1jfXI3yr"
   },
   "outputs": [],
   "source": [
    "# Cell 10\n",
    "!python main.py --config configs/config_vanilla_cnn.yaml"
   ]
  },
  {
   "cell_type": "markdown",
   "id": "bd44b75e",
   "metadata": {
    "id": "QfQGZSopJ_Az"
   },
   "source": [
    "Train your own model"
   ]
  },
  {
   "cell_type": "code",
   "execution_count": null,
   "id": "4a1078a2",
   "metadata": {
    "id": "lP9jXoFxJ7h7"
   },
   "outputs": [],
   "source": [
    "# Cell 11\n",
    "!python main.py --config configs/config_mymodel.yaml"
   ]
  },
  {
   "cell_type": "markdown",
   "id": "22626756",
   "metadata": {
    "id": "Q5DhTqGkz_V9"
   },
   "source": [
    "## Zip your Part-2 submission"
   ]
  },
  {
   "cell_type": "code",
   "execution_count": null,
   "id": "4d85d597",
   "metadata": {
    "id": "Ti9xxA3kz--E"
   },
   "outputs": [],
   "source": [
    "# Cell 12\n",
    "# If you get an error saying test not found, add an __init__.py file in the\n",
    "# tests directory\n",
    "!python3 collect_submission.py"
   ]
  },
  {
   "cell_type": "markdown",
   "id": "f6640940",
   "metadata": {
    "id": "UJgUiTH5i01C"
   },
   "source": [
    "# **Assignment 2 Writeup**\n",
    "\n",
    "- Name: Arthur Scaquetti do Nascimento\n",
    "- GT Email: anascimento7@gatech.edu\n",
    "- GT ID: 903721548\n",
    "\n"
   ]
  },
  {
   "cell_type": "markdown",
   "id": "936fc483",
   "metadata": {
    "id": "izgRR9ROxXDT"
   },
   "source": [
    "How does the training curve in Part-1 look like?"
   ]
  },
  {
   "cell_type": "markdown",
   "id": "bc6591b6",
   "metadata": {
    "id": "uVpM6huQoXE_"
   },
   "source": [
    "What are the accuracies with these networks?\n",
    "\n",
    "- Two-Layer Network: \n",
    "- Vanilla ConvNet:\n",
    "- My ConvNet model:\n",
    "\n",
    "\n",
    "\n"
   ]
  }
 ],
 "metadata": {
  "colab": {
   "collapsed_sections": [],
   "provenance": []
  },
  "kernelspec": {
   "display_name": "Python 3",
   "language": "python",
   "name": "python3"
  },
  "language_info": {
   "codemirror_mode": {
    "name": "ipython",
    "version": 3
   },
   "file_extension": ".py",
   "mimetype": "text/x-python",
   "name": "python",
   "nbconvert_exporter": "python",
   "pygments_lexer": "ipython3",
   "version": "3.8.10"
  }
 },
 "nbformat": 4,
 "nbformat_minor": 5
}
