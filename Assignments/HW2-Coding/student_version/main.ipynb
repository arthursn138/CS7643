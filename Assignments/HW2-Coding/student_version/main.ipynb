{
 "cells": [
  {
   "cell_type": "markdown",
   "id": "f8b6826b",
   "metadata": {
    "id": "wpvzcMuc5EXM"
   },
   "source": [
    "###Mount Google Drive"
   ]
  },
  {
   "cell_type": "code",
   "execution_count": null,
   "id": "558f08b5",
   "metadata": {
    "id": "hBD1zdSe0OuY",
    "scrolled": true
   },
   "outputs": [],
   "source": [
    "# Cell 1\n",
    "from google.colab import drive\n",
    "drive.mount('/content/drive')"
   ]
  },
  {
   "cell_type": "markdown",
   "id": "142339de",
   "metadata": {
    "id": "NMJSBzha56Cm"
   },
   "source": [
    "###Part1: Implementing CNN from Scratch"
   ]
  },
  {
   "cell_type": "code",
   "execution_count": null,
   "id": "57311cd1",
   "metadata": {
    "id": "KCg3TIH79zYi"
   },
   "outputs": [],
   "source": [
    "# Cell 2\n",
    "%cd /content/drive/MyDrive/'<path_to_unzipped_files>'/hw2/student_version/part1-convnet/"
   ]
  },
  {
   "cell_type": "markdown",
   "id": "278a0570",
   "metadata": {
    "id": "H_JFrDjX9kns"
   },
   "source": [
    "Load CIFAR-10 data"
   ]
  },
  {
   "cell_type": "code",
   "execution_count": null,
   "id": "731d8c3c",
   "metadata": {
    "id": "HLp78q5P19ed"
   },
   "outputs": [],
   "source": [
    "# Cell 3\n",
    "%cd data\n",
    "!sh get_data.sh\n",
    "%cd .."
   ]
  },
  {
   "cell_type": "markdown",
   "id": "86169141",
   "metadata": {
    "id": "N3rsFEHhDIKD"
   },
   "source": [
    "Cross-check your implementation"
   ]
  },
  {
   "cell_type": "code",
   "execution_count": null,
   "id": "0907438d",
   "metadata": {
    "id": "YCVwKF1M6vAb"
   },
   "outputs": [],
   "source": [
    "# Cell 3\n",
    "# If you get an error saying test not found, add an __init__.py file in the\n",
    "# tests directory\n",
    "!python -m unittest tests.test_conv"
   ]
  },
  {
   "cell_type": "markdown",
   "id": "e1b0c999",
   "metadata": {
    "id": "RuablKpuDQLh"
   },
   "source": [
    "Train your ConvNet"
   ]
  },
  {
   "cell_type": "code",
   "execution_count": null,
   "id": "3025c43a",
   "metadata": {
    "id": "e6846de3"
   },
   "outputs": [],
   "source": [
    "# Cell 4\n",
    "!python train.py"
   ]
  },
  {
   "cell_type": "markdown",
   "id": "934ba018",
   "metadata": {
    "id": "AAKJrcY6q9b4"
   },
   "source": [
    "Visualize Part-1 training curve"
   ]
  },
  {
   "cell_type": "code",
   "execution_count": null,
   "id": "d3e588f8",
   "metadata": {
    "id": "jU-GcjPZonLH"
   },
   "outputs": [],
   "source": [
    "# Cell 5\n",
    "from IPython.display import display, Image\n",
    "display(Image(filename='./train.png', width=500))"
   ]
  },
  {
   "cell_type": "markdown",
   "id": "dc7105de",
   "metadata": {
    "id": "DJq4sV4Hz0dx"
   },
   "source": [
    "## Zip your Part-1 submission"
   ]
  },
  {
   "cell_type": "code",
   "execution_count": null,
   "id": "48321df2",
   "metadata": {
    "id": "A9YILla3z3Jf"
   },
   "outputs": [],
   "source": [
    "# Cell 6\n",
    "!python3 collect_submission.py"
   ]
  },
  {
   "cell_type": "code",
   "execution_count": 6,
   "id": "82ca4d28",
   "metadata": {},
   "outputs": [
    {
     "name": "stdout",
     "output_type": "stream",
     "text": [
      "[[ 9 10 11 12 13 14]\n",
      " [15 16 17 18 19 20]]\n"
     ]
    },
    {
     "ename": "TypeError",
     "evalue": "'int' object is not iterable",
     "output_type": "error",
     "traceback": [
      "\u001b[0;31m---------------------------------------------------------------------------\u001b[0m",
      "\u001b[0;31mTypeError\u001b[0m                                 Traceback (most recent call last)",
      "Cell \u001b[0;32mIn[6], line 6\u001b[0m\n\u001b[1;32m      3\u001b[0m \u001b[38;5;28mprint\u001b[39m(a)\n\u001b[1;32m      4\u001b[0m np\u001b[38;5;241m.\u001b[39margmax(a)\n\u001b[0;32m----> 6\u001b[0m \u001b[43mnp\u001b[49m\u001b[38;5;241;43m.\u001b[39;49m\u001b[43mindices\u001b[49m\u001b[43m(\u001b[49m\u001b[38;5;241;43m0\u001b[39;49m\u001b[43m,\u001b[49m\u001b[43m \u001b[49m\u001b[38;5;241;43m0\u001b[39;49m\u001b[43m)\u001b[49m\n",
      "File \u001b[0;32m~/anaconda3/envs/cs7643-a2/lib/python3.11/site-packages/numpy/core/numeric.py:1758\u001b[0m, in \u001b[0;36mindices\u001b[0;34m(dimensions, dtype, sparse)\u001b[0m\n\u001b[1;32m   1673\u001b[0m \u001b[38;5;129m@set_module\u001b[39m(\u001b[38;5;124m'\u001b[39m\u001b[38;5;124mnumpy\u001b[39m\u001b[38;5;124m'\u001b[39m)\n\u001b[1;32m   1674\u001b[0m \u001b[38;5;28;01mdef\u001b[39;00m \u001b[38;5;21mindices\u001b[39m(dimensions, dtype\u001b[38;5;241m=\u001b[39m\u001b[38;5;28mint\u001b[39m, sparse\u001b[38;5;241m=\u001b[39m\u001b[38;5;28;01mFalse\u001b[39;00m):\n\u001b[1;32m   1675\u001b[0m \u001b[38;5;250m    \u001b[39m\u001b[38;5;124;03m\"\"\"\u001b[39;00m\n\u001b[1;32m   1676\u001b[0m \u001b[38;5;124;03m    Return an array representing the indices of a grid.\u001b[39;00m\n\u001b[1;32m   1677\u001b[0m \n\u001b[0;32m   (...)\u001b[0m\n\u001b[1;32m   1756\u001b[0m \n\u001b[1;32m   1757\u001b[0m \u001b[38;5;124;03m    \"\"\"\u001b[39;00m\n\u001b[0;32m-> 1758\u001b[0m     dimensions \u001b[38;5;241m=\u001b[39m \u001b[38;5;28;43mtuple\u001b[39;49m\u001b[43m(\u001b[49m\u001b[43mdimensions\u001b[49m\u001b[43m)\u001b[49m\n\u001b[1;32m   1759\u001b[0m     N \u001b[38;5;241m=\u001b[39m \u001b[38;5;28mlen\u001b[39m(dimensions)\n\u001b[1;32m   1760\u001b[0m     shape \u001b[38;5;241m=\u001b[39m (\u001b[38;5;241m1\u001b[39m,)\u001b[38;5;241m*\u001b[39mN\n",
      "\u001b[0;31mTypeError\u001b[0m: 'int' object is not iterable"
     ]
    }
   ],
   "source": [
    "import numpy as np\n",
    "a = np.arange(9, 21).reshape(2, -1)\n",
    "print(a)\n",
    "np.argmax(a)\n",
    "\n",
    "# np.indices(0, 1)"
   ]
  },
  {
   "cell_type": "markdown",
   "id": "06d7a973",
   "metadata": {
    "id": "ZZNrCDMGDniz"
   },
   "source": [
    "###Part2: PyTorch"
   ]
  },
  {
   "cell_type": "code",
   "execution_count": null,
   "id": "d1866dc1",
   "metadata": {
    "colab": {
     "base_uri": "https://localhost:8080/"
    },
    "executionInfo": {
     "elapsed": 113,
     "status": "ok",
     "timestamp": 1663357369045,
     "user": {
      "displayName": "Aaditya Singh",
      "userId": "09061451794579123295"
     },
     "user_tz": 240
    },
    "id": "uboHDrlHEMhI",
    "outputId": "0dc30e8c-5fd0-4762-8e3a-d9a2dc9709f4"
   },
   "outputs": [
    {
     "name": "stdout",
     "output_type": "stream",
     "text": [
      "/content/drive/MyDrive/Colab Notebooks/f22-dl/hw2/part2-pytorch\n"
     ]
    }
   ],
   "source": [
    "# Cell 7\n",
    "%cd /content/drive/MyDrive/'hw2.zip (Unzipped Files)'/hw2/student_version/part2-pytorch/"
   ]
  },
  {
   "cell_type": "markdown",
   "id": "6f9ce49c",
   "metadata": {
    "id": "PNu2vcVQGMyf"
   },
   "source": [
    "Load CIFAR-10 data"
   ]
  },
  {
   "cell_type": "code",
   "execution_count": null,
   "id": "7c2d12f7",
   "metadata": {
    "id": "BpaX2bPlGm9V"
   },
   "outputs": [],
   "source": [
    "# Cell 8\n",
    "%cd data\n",
    "!sh get_data.sh\n",
    "%cd .."
   ]
  },
  {
   "cell_type": "markdown",
   "id": "db16f48d",
   "metadata": {
    "id": "HgRcAfN7Helz"
   },
   "source": [
    "Train your Two-Layer Net"
   ]
  },
  {
   "cell_type": "code",
   "execution_count": null,
   "id": "a76c48fa",
   "metadata": {
    "id": "n4SvtJfjGJYf"
   },
   "outputs": [],
   "source": [
    "# Cell 9\n",
    "!python main.py --config configs/config_twolayer.yaml"
   ]
  },
  {
   "cell_type": "markdown",
   "id": "94c33fda",
   "metadata": {
    "id": "ZluqyoHLIzMn"
   },
   "source": [
    "Train your Vanilla ConvNet"
   ]
  },
  {
   "cell_type": "code",
   "execution_count": null,
   "id": "eebba31a",
   "metadata": {
    "id": "KE1K1jfXI3yr"
   },
   "outputs": [],
   "source": [
    "# Cell 10\n",
    "!python main.py --config configs/config_vanilla_cnn.yaml"
   ]
  },
  {
   "cell_type": "markdown",
   "id": "bd44b75e",
   "metadata": {
    "id": "QfQGZSopJ_Az"
   },
   "source": [
    "Train your own model"
   ]
  },
  {
   "cell_type": "code",
   "execution_count": null,
   "id": "4a1078a2",
   "metadata": {
    "id": "lP9jXoFxJ7h7"
   },
   "outputs": [],
   "source": [
    "# Cell 11\n",
    "!python main.py --config configs/config_mymodel.yaml"
   ]
  },
  {
   "cell_type": "markdown",
   "id": "22626756",
   "metadata": {
    "id": "Q5DhTqGkz_V9"
   },
   "source": [
    "## Zip your Part-2 submission"
   ]
  },
  {
   "cell_type": "code",
   "execution_count": null,
   "id": "4d85d597",
   "metadata": {
    "id": "Ti9xxA3kz--E"
   },
   "outputs": [],
   "source": [
    "# Cell 12\n",
    "# If you get an error saying test not found, add an __init__.py file in the\n",
    "# tests directory\n",
    "!python3 collect_submission.py"
   ]
  },
  {
   "cell_type": "markdown",
   "id": "f6640940",
   "metadata": {
    "id": "UJgUiTH5i01C"
   },
   "source": [
    "# **Assignment 2 Writeup**\n",
    "\n",
    "- Name: Arthur Scaquetti do Nascimento\n",
    "- GT Email: anascimento7@gatech.edu\n",
    "- GT ID: 903721548\n",
    "\n"
   ]
  },
  {
   "cell_type": "markdown",
   "id": "936fc483",
   "metadata": {
    "id": "izgRR9ROxXDT"
   },
   "source": [
    "How does the training curve in Part-1 look like?"
   ]
  },
  {
   "cell_type": "markdown",
   "id": "bc6591b6",
   "metadata": {
    "id": "uVpM6huQoXE_"
   },
   "source": [
    "What are the accuracies with these networks?\n",
    "\n",
    "- Two-Layer Network: \n",
    "- Vanilla ConvNet:\n",
    "- My ConvNet model:\n",
    "\n",
    "\n",
    "\n"
   ]
  }
 ],
 "metadata": {
  "colab": {
   "collapsed_sections": [],
   "provenance": []
  },
  "kernelspec": {
   "display_name": "Python 3",
   "language": "python",
   "name": "python3"
  },
  "language_info": {
   "codemirror_mode": {
    "name": "ipython",
    "version": 3
   },
   "file_extension": ".py",
   "mimetype": "text/x-python",
   "name": "python",
   "nbconvert_exporter": "python",
   "pygments_lexer": "ipython3",
   "version": "3.11.7"
  }
 },
 "nbformat": 4,
 "nbformat_minor": 5
}
